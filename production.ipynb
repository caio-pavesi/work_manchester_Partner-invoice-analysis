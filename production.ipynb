{
 "cells": [
  {
   "cell_type": "markdown",
   "metadata": {},
   "source": [
    "# Modules used"
   ]
  },
  {
   "cell_type": "code",
   "execution_count": null,
   "metadata": {},
   "outputs": [],
   "source": [
    "import win32com.client as client\n",
    "import datetime as datetime\n",
    "import pandas as pd\n",
    "import pdfplumber\n",
    "import re\n",
    "import os\n",
    "\n",
    "from pathlib import Path"
   ]
  },
  {
   "cell_type": "markdown",
   "metadata": {},
   "source": [
    "# Global variables"
   ]
  },
  {
   "cell_type": "code",
   "execution_count": null,
   "metadata": {},
   "outputs": [],
   "source": [
    "## Folder where the automation is located\n",
    "dir = Path(__file__).parent.resolve()\n",
    "\n",
    "## Month of reference as invoices\n",
    "date = datetime.date.today().strftime(\"%m/%Y\")\n",
    "\n",
    "## Outlook connection + parameters\n",
    "outlook = client.Dispatch(\"Outlook.Application\")\n",
    "namespace = outlook.GetNamesPace('MAPI')\n",
    "account = 'company@email.com'\n",
    "folder = 'folder'\n",
    "sender = 'partner@email.com'"
   ]
  },
  {
   "cell_type": "markdown",
   "metadata": {},
   "source": [
    "# Save extract"
   ]
  },
  {
   "cell_type": "code",
   "execution_count": null,
   "metadata": {},
   "outputs": [],
   "source": [
    "def get_extract(email, folder, sender):\n",
    "\n",
    "    ## Selects the right account and folder\n",
    "    account = namespace.Folders[email]\n",
    "    inbox = account.Folders[folder]\n",
    "    \n",
    "    ## Searches for the email with the invoice\n",
    "    BHS_email = [message for message in inbox.Items if message.SenderEmailAddress == sender and pd.to_datetime(message.ReceivedTime, utc = True).strftime(\"%m/%Y\") == date]\n",
    "    \n",
    "    for message in BHS_email:\n",
    "        ## Recovers only the attachments (win32com)\n",
    "        attachments = message.Attachments\n",
    "\n",
    "        for pdf in attachments:\n",
    "            ## Selects the correct attachment\n",
    "            if pdf.FileName[-8:] == \"_ext.pdf\":\n",
    "                ## Saves the attachment\n",
    "                pdf.SaveAsFile(dir / str(pdf.FileName))\n",
    "                return pdf.filename\n",
    "\n",
    "bhs_pdf = get_extract(account, folder, sender)\n",
    "print(\"Invoice obtained\")"
   ]
  },
  {
   "cell_type": "markdown",
   "metadata": {},
   "source": [
    "# Read extract"
   ]
  },
  {
   "cell_type": "code",
   "execution_count": null,
   "metadata": {},
   "outputs": [],
   "source": [
    "def read_extract(extract):\n",
    "\n",
    "    with pdfplumber.open(dir / str(extract)) as pdf:\n",
    "        \n",
    "        # Criando dataframe\n",
    "        ext_data = pd.DataFrame(columns=[\"Email\",\"Plano\",\"Status\",\"Valor\"])\n",
    "        i = 0\n",
    "        \n",
    "        for pages in pdf.pages:\n",
    "            content = pages.extract_text()          # Extrai o texto das páginas    \n",
    "            filter = re.compile(r'^Power|Plano | Exchange | Microsoft | Flow')    # Filtro RegEx para as linhas das licenças\n",
    "            \n",
    "            ## Obter os dados para cada licença\n",
    "            ## https://regex101.com/\n",
    "            for license in content.split('\\n'):     # Recupera apenas as linhas das licenças\n",
    "                if filter.match(license):\n",
    "                    \n",
    "                    ### Método 1 usando dict in lists.\n",
    "                    # Plano\n",
    "                    plano = str(license.split('|')[0])  \n",
    "                    \n",
    "                    # Status\n",
    "                    status = re.findall(r'\\w+í\\w+', license)\n",
    "                    status = str(status[0]) if status else None\n",
    "                    \n",
    "                    # Email\n",
    "                    email = re.findall(r'\\S+\\w+@', license)                                 ## https://regex101.com/r/xoITe4/1\n",
    "                    email = str(email[0] + \"manchesterinvest.com.br\") if email else None\n",
    "                    \n",
    "                    # Custo\n",
    "                    valor = re.findall(r'\\w+,\\w+', license)\n",
    "                    valor = float(valor[0].replace(\",\", \".\")) if valor else None\n",
    "                    \n",
    "                    # Adicionando dados ao dataframe\n",
    "                    ext_data.loc[i] = [\n",
    "                        email,\n",
    "                        plano,\n",
    "                        status,\n",
    "                        valor\n",
    "                    ]\n",
    "                    \n",
    "                    # Próxima linha\n",
    "                    i += 1\n",
    "                    \n",
    "        return ext_data\n",
    "    \n",
    "licenses = read_extract(bhs_pdf)\n",
    "print(\"Licenses identified\")"
   ]
  },
  {
   "cell_type": "markdown",
   "metadata": {},
   "source": [
    "# Read employee data"
   ]
  },
  {
   "cell_type": "code",
   "execution_count": null,
   "metadata": {},
   "outputs": [],
   "source": [
    "def get_employees():\n",
    "\n",
    "    _ = 'https://finadvisors.warpapp.com.br/Integracao/ExportacaoAgenteDetalhe?id_ProcessoExportacaoSaida=47&ds_ProcessoExportacaoSaida=Agentes%20-%20Lista%20Detalhada&ds_DescricaoProcesso=Lista%20com%20dados%20de%20Agentes'\n",
    "    ## Pegar os usuários daqui com selenium\n",
    "    \n",
    "    doc = 'Colaboradores.xlsx'                                                                          ## Adicionar aqui o retorno da fonte de dados\n",
    "    data = pd.read_excel(dir / doc)[1:]                                                                 ## Retorna os valores exceto index 0\n",
    "    header = pd.read_excel(dir / doc).iloc[0]                                                           ## Pega o index 0\n",
    "    data.columns = header.values                                                                        ## Promove o index 0 a cabeçalho ## .values coloca apenas os valores do index 0\n",
    "    user_data = data.loc[:, ['Cód. Interno', 'e-Mail', 'Dt. Desligamento']].reset_index(drop=True)      ## retorna apenas estas duas colunas ## .reset_index atualiza o index da planilha\n",
    "    \n",
    "    return user_data\n",
    "\n",
    "employees = get_employees()\n",
    "print(\"Employees data obtained\")"
   ]
  },
  {
   "cell_type": "markdown",
   "metadata": {},
   "source": [
    "# Analysis"
   ]
  },
  {
   "cell_type": "code",
   "execution_count": null,
   "metadata": {},
   "outputs": [],
   "source": [
    "def do_analysis(invoice, users):\n",
    "\n",
    "    users = pd.DataFrame(users)\n",
    "    invoice = pd.DataFrame(invoice)\n",
    "    \n",
    "    dismissed_users = users[~users['Dt. Desligamento'].isna()]                                                              ## Pega apenas os usuários desligados # ~ indica não e .isna() pega os valores nulos\n",
    "    dismissed_invoice = pd.merge(dismissed_users, invoice, how='inner', left_on='e-Mail', right_on='Email')                 ## Mescla as duas tabelas com base no Email\n",
    "    dismissed_licensed = dismissed_invoice[~dismissed_invoice['Email'].isna()]                                              ## Retorna apenas os usuários desligados da tabela\n",
    "    dismissed_licensed_total = dismissed_licensed[['Valor']].sum()                                                          ## Soma o total de valor\n",
    "    dismissed_licensed = dismissed_licensed[['Cód. Interno', 'Dt. Desligamento', 'Email', 'Plano', 'Status', 'Valor']]      ## Retorna apenas as colunas mencionadas\n",
    "\n",
    "    licenses_available = invoice[invoice['Status'] == \"Disponível\"]                                                         ## Retorna apenas as licencas disponíveis da tabela\n",
    "    licenses_available_total = licenses_available[['Valor']].sum()                                                          ## Soma o total de valor\n",
    "    \n",
    "    return dismissed_licensed, dismissed_licensed_total, licenses_available, licenses_available_total\n",
    "\n",
    "results = do_analysis(licenses, employees)\n",
    "print(\"Analysis done\")"
   ]
  },
  {
   "cell_type": "markdown",
   "metadata": {},
   "source": [
    "# Send report"
   ]
  },
  {
   "cell_type": "code",
   "execution_count": null,
   "metadata": {},
   "outputs": [],
   "source": [
    "def send_report(analysis, invoice):\n",
    "\n",
    "    desligados = analysis[0].to_html(border = 1, index=False, justify=\"left\")\n",
    "    total_desligados = analysis[1]['Valor']\n",
    "    disponiveis = analysis[2].to_html(border = 1, index=False, justify=\"left\")\n",
    "    total_disponiveis = analysis[3]['Valor']\n",
    "    mail = outlook.CreateItem(0)\n",
    "    attachment = str(dir / invoice)\n",
    "    \n",
    "    texto_HTML = \"\"\"<body>\n",
    "        <div>\n",
    "            <p>\n",
    "                Hello,\n",
    "                <br/><br/>\n",
    "                Within the {ref} invoice, the following licenses should have been disabled\":\n",
    "                <br/><br/>\n",
    "                {desligados_html}\n",
    "                <br/>\n",
    "                Adding up: R$ {sum_desligados:.2f}\n",
    "            </p>\n",
    "        </div>\n",
    "        <br/>\n",
    "        <div>\n",
    "            <p>\n",
    "                These licenses are unassigned:\n",
    "    \t\t    <br/><br/>\n",
    "                {disponiveis_html}\n",
    "    \t\t    <br/>\n",
    "                Adding up: R$ {sum_disponiveis:.2f}\n",
    "            </p>\n",
    "        </div>\n",
    "    \t<br/>\n",
    "        <div>\n",
    "            <p>\n",
    "                Best regards,\n",
    "                <br/>\n",
    "                500000 Automation, Caio Pavesi\n",
    "            </p>\n",
    "        </div>\n",
    "    </body>\"\"\"\n",
    "\n",
    "    mail.Subject = f\"Microsoft assigned licenses analysis {date}\"\n",
    "    mail.Attachments.Add(attachment)\n",
    "    mail.BodyFormat = 1\n",
    "    mail.HTMLBody = texto_HTML.format(desligados_html = desligados, sum_desligados = total_desligados, disponiveis_html = disponiveis, sum_disponiveis = total_disponiveis, ref = date)\n",
    "    mail.To = 'other.company@email.com'\n",
    "    mail.Send()\n",
    "    \n",
    "    return None\n",
    "\n",
    "send_report(results, bhs_pdf)\n",
    "print(\"Report sent\")"
   ]
  },
  {
   "cell_type": "markdown",
   "metadata": {},
   "source": [
    "# Folder cleanup"
   ]
  },
  {
   "cell_type": "code",
   "execution_count": null,
   "metadata": {},
   "outputs": [],
   "source": [
    "def organize_folder(users, invoice):\n",
    "\n",
    "    os.remove(dir / invoice)\n",
    "\n",
    "\n",
    "    return None\n",
    "\n",
    "organize_folder(employees, bhs_pdf)\n",
    "print(\"5S feito\")"
   ]
  }
 ],
 "metadata": {
  "language_info": {
   "name": "python"
  },
  "orig_nbformat": 4
 },
 "nbformat": 4,
 "nbformat_minor": 2
}
