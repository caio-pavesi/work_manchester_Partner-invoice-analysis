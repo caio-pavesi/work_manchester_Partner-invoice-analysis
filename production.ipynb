{
 "cells": [
  {
   "cell_type": "markdown",
   "metadata": {},
   "source": [
    "# Modules used\n",
    "<br>These modules come in handy to access some applications or manipulate data.\n",
    "<br>\n",
    "<br>`$ python -m pip install --upgrade pywin32`\n",
    "<br>https://learn.microsoft.com/pt-br/office/vba/api/outlook.application\n",
    "<br>win32com interacts with the Outlook desktop application (similar to VBA syntax)\n",
    "<br>\n",
    "<br>`$ pip install pandas`\n",
    "<br>https://pandas.pydata.org/docs/\n",
    "<br>Brings the ability to work with dataframes\n",
    "<br>\n",
    "<br>`$ pip install pdfplumber`\n",
    "<br>https://pypi.org/project/pdfplumber\n",
    "<br>pdfplumber come in handy to read \".pdf\" archives"
   ]
  },
  {
   "cell_type": "code",
   "execution_count": null,
   "metadata": {},
   "outputs": [],
   "source": [
    "import win32com.client as client\n",
    "import datetime as datetime\n",
    "import pandas as pd\n",
    "import pdfplumber\n",
    "import re\n",
    "import os\n",
    "\n",
    "from pathlib import Path"
   ]
  },
  {
   "cell_type": "markdown",
   "metadata": {},
   "source": [
    "# Global variables"
   ]
  },
  {
   "cell_type": "code",
   "execution_count": null,
   "metadata": {},
   "outputs": [],
   "source": [
    "## Folder where the automation is located\n",
    "dir = Path(__file__).parent.resolve()\n",
    "\n",
    "## Month/Year reference as emails are sent each month and kept in the same folder\n",
    "date = datetime.date.today().strftime(\"%m/%Y\")\n",
    "\n",
    "## Outlook connection + parameters\n",
    "outlook = client.Dispatch(\"Outlook.Application\")\n",
    "namespace = outlook.GetNamesPace('MAPI')\n",
    "account = 'company@email.com'\n",
    "folder = 'folder'\n",
    "sender = 'partner@email.com'"
   ]
  },
  {
   "cell_type": "markdown",
   "metadata": {},
   "source": [
    "# Save extract"
   ]
  },
  {
   "cell_type": "code",
   "execution_count": null,
   "metadata": {},
   "outputs": [],
   "source": [
    "def get_extract(email, folder, sender):\n",
    "\n",
    "    ## Selects the right account and folder\n",
    "    account = namespace.Folders[email]\n",
    "    inbox = account.Folders[folder]\n",
    "    \n",
    "    ## Searches for the email with the invoice\n",
    "    BHS_email = [message for message in inbox.Items if message.SenderEmailAddress == sender and pd.to_datetime(message.ReceivedTime, utc = True).strftime(\"%m/%Y\") == date]\n",
    "    \n",
    "    for message in BHS_email:\n",
    "        ## Recovers only the attachments (win32com)\n",
    "        attachments = message.Attachments\n",
    "\n",
    "        for pdf in attachments:\n",
    "            ## Selects the correct attachment\n",
    "            if pdf.FileName[-8:] == \"_ext.pdf\":\n",
    "                ## Saves the attachment\n",
    "                pdf.SaveAsFile(dir / str(pdf.FileName))\n",
    "                return pdf.filename\n",
    "\n",
    "partner_pdf = get_extract(account, folder, sender)\n",
    "if partner_pdf == None:\n",
    "    print(\"No partner invoice, process finished\")\n",
    "    exit()\n",
    "print(\"Invoice obtained\")"
   ]
  },
  {
   "cell_type": "markdown",
   "metadata": {},
   "source": [
    "# Read extract"
   ]
  },
  {
   "cell_type": "code",
   "execution_count": null,
   "metadata": {},
   "outputs": [],
   "source": [
    "def read_extract(extract):\n",
    "\n",
    "    ## Opens and reads the invoice (pdfplumber)\n",
    "    with pdfplumber.open(dir / str(extract)) as pdf:\n",
    "        \n",
    "        ## Creates a DataFrame to store data (current blank)\n",
    "        licenses_data = pd.DataFrame(columns=[\"Email\",\"License\",\"Status\",\"price\"])\n",
    "        i = 0\n",
    "        \n",
    "        for pages in pdf.pages:\n",
    "            \n",
    "            ## Extracts the content from the invoice\n",
    "            content = pages.extract_text()\n",
    "            \n",
    "            ## Uses RegEx to create a filter variable to find the licenses lines\n",
    "            filter = re.compile(r'^Power|Plano|Exchange|Microsoft|Flow')\n",
    "            \n",
    "            for line in content.split('\\n'):\n",
    "                \n",
    "                ## Filters only the licenses lines\n",
    "                if filter.match(line):\n",
    "                    \n",
    "                    ## Everything before a \"|\" refers to wich license is\n",
    "                    License = str(line.split('|')[0])  \n",
    "                    \n",
    "                    ## We have either \"Atribuída\" or \"Disponível\" in my case so it searches for these words based on \"í\"\n",
    "                    status = re.findall(r'\\w+í\\w+', line)\n",
    "                    status = str(status[0]) if status else None\n",
    "                    \n",
    "                    ## Email is the only word with a \"@\" and as the invoice gives the e-mail in two lines we use the \"@\" to get the username and later we add the domain\n",
    "                    email = re.findall(r'\\S+\\w+@', line)\n",
    "                    email = str(email[0] + \"email.com\") if email else None\n",
    "                    \n",
    "                    ## The str that represents the value is the oly one with a comma\n",
    "                    price = re.findall(r'\\d+,\\d+', line)\n",
    "                    price = float(price[0].replace(\",\", \".\")) if price else None\n",
    "                    \n",
    "                    ## Setting the data in the dataframe\n",
    "                    licenses_data.loc[i] = [\n",
    "                        email,\n",
    "                        License,\n",
    "                        status,\n",
    "                        price\n",
    "                    ]\n",
    "                    i += 1\n",
    "                    \n",
    "        return licenses_data\n",
    "\n",
    "## Uses the filename of the extract to identify and read it\n",
    "licenses = read_extract(partner_pdf)\n",
    "print(\"Licenses identified\")"
   ]
  },
  {
   "cell_type": "markdown",
   "metadata": {},
   "source": [
    "# Read employee data"
   ]
  },
  {
   "cell_type": "code",
   "execution_count": null,
   "metadata": {},
   "outputs": [],
   "source": [
    "def get_employees():\n",
    "    \n",
    "    ## All of the employees data comes from a spreadsheet obtained from other software\n",
    "    doc = 'Employees.xlsx'\n",
    "\n",
    "    ## The software in question returns a xlsx with the first row merged and the Headers at the second one\n",
    "    ## Here we only read the cells after the first row and set the second row as header\n",
    "    data = pd.read_excel(dir / doc)[1:]\n",
    "    header = pd.read_excel(dir / doc).iloc[0]\n",
    "    data.columns = header.values\n",
    "    \n",
    "    ## Retrieve only useful information\n",
    "    user_data = data.loc[:, ['Cód. Interno', 'e-Mail', 'Dt. Desligamento']].reset_index(drop=True)      ## retorna apenas estas duas colunas ## .reset_index atualiza o index da planilha\n",
    "    \n",
    "    return user_data\n",
    "\n",
    "employees = get_employees()\n",
    "print(\"Employees data obtained\")"
   ]
  },
  {
   "cell_type": "markdown",
   "metadata": {},
   "source": [
    "# Analysis"
   ]
  },
  {
   "cell_type": "code",
   "execution_count": null,
   "metadata": {},
   "outputs": [],
   "source": [
    "def do_analysis(invoice, users):\n",
    "    \n",
    "    ## Returns only the dismissed employees\n",
    "    dismissed_users = users[~users['Dt. Desligamento'].isna()]\n",
    "    \n",
    "    ## Merges invoice and employees data to find which licesens shouldnt be paid\n",
    "    dismissed_licensed = dismissed_invoice[~dismissed_invoice['Email'].isna()]\n",
    "    dismissed_invoice = pd.merge(dismissed_users, invoice, how='inner', left_on='e-Mail', right_on='Email')\n",
    "    dismissed_licensed = dismissed_licensed[['Cód. Interno', 'Dt. Desligamento', 'Email', 'License', 'Status', 'price']]\n",
    "    ## Sums the price of these licenses\n",
    "    dismissed_licensed_sum = dismissed_licensed[['price']].sum()\n",
    "    \n",
    "    ## Returns only the available licenses\n",
    "    licenses_available = invoice[invoice['Status'] == \"Disponível\"]\n",
    "    ## Sums the price of these licenses\n",
    "    licenses_available_sum = licenses_available[['price']].sum()\n",
    "    \n",
    "    return dismissed_licensed, dismissed_licensed_sum, licenses_available, licenses_available_sum\n",
    "\n",
    "results = do_analysis(licenses, employees)\n",
    "print(\"Analysis done\")"
   ]
  },
  {
   "cell_type": "markdown",
   "metadata": {},
   "source": [
    "# Send report"
   ]
  },
  {
   "cell_type": "code",
   "execution_count": null,
   "metadata": {},
   "outputs": [],
   "source": [
    "def send_report(analysis, invoice):\n",
    "\n",
    "    ## Converting the tables to HTML as they're embeded in mail body\n",
    "    dismissed = analysis[0].to_html(border = 1, index=False, justify=\"left\")\n",
    "    available = analysis[2].to_html(border = 1, index=False, justify=\"left\")\n",
    "    \n",
    "    ## Returns sum price of both analysis\n",
    "    sum_dismissed = analysis[1]['price']\n",
    "    sum_available = analysis[3]['price']\n",
    "    \n",
    "    ## Get the invoice pdf\n",
    "    attachment = str(dir / invoice)\n",
    "\n",
    "    ## Creates the report as a Email, by default its going to send as your inbox\n",
    "    mail = outlook.CreateItem(0)\n",
    "    mail.To = 'company@email.com'\n",
    "    mail.Subject = f\"Microsoft assigned licenses analysis {date}\"\n",
    "    mail.Attachments.Add(attachment)\n",
    "    mail.BodyFormat = 1\n",
    "    mail.HTMLBody = \"\"\"<body>\n",
    "        <div>\n",
    "            <p>\n",
    "                Hello,\n",
    "                <br/><br/>\n",
    "                Within the {ref} invoice, the following licenses should have been disabled\":\n",
    "                <br/><br/>\n",
    "                {dismissed_html}\n",
    "                <br/>\n",
    "                Adding up: R$ {sum_dismissed:.2f}\n",
    "            </p>\n",
    "        </div>\n",
    "        <br/>\n",
    "        <div>\n",
    "            <p>\n",
    "                These licenses are unassigned:\n",
    "    \t\t    <br/><br/>\n",
    "                {available_html}\n",
    "    \t\t    <br/>\n",
    "                Adding up: R$ {sum_available:.2f}\n",
    "            </p>\n",
    "        </div>\n",
    "    \t<br/>\n",
    "        <div>\n",
    "            <p>\n",
    "                Best regards,\n",
    "                <br/>\n",
    "                Caio Pavesi (Automation)\n",
    "            </p>\n",
    "        </div>\n",
    "    </body>\"\"\".format(dismissed_html = dismissed, sum_dismissed = sum_dismissed, available_html = available, sum_available = sum_available, ref = date)\n",
    "    mail.Send()\n",
    "    \n",
    "    return None\n",
    "\n",
    "send_report(results, partner_pdf)\n",
    "print(\"Report sent\")"
   ]
  },
  {
   "cell_type": "markdown",
   "metadata": {},
   "source": [
    "# Folder cleanup"
   ]
  },
  {
   "cell_type": "code",
   "execution_count": null,
   "metadata": {},
   "outputs": [],
   "source": [
    "def organize_folder(invoice):\n",
    "\n",
    "    ## Deletes invoice\n",
    "    os.remove(dir / invoice)\n",
    "\n",
    "    return None\n",
    "\n",
    "organize_folder(partner_pdf)\n",
    "print(\"5S feito\")"
   ]
  }
 ],
 "metadata": {
  "language_info": {
   "name": "python"
  },
  "orig_nbformat": 4
 },
 "nbformat": 4,
 "nbformat_minor": 2
}
